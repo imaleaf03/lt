{
  "cells": [
    {
      "cell_type": "markdown",
      "metadata": {
        "id": "view-in-github",
        "colab_type": "text"
      },
      "source": [
        "<a href=\"https://colab.research.google.com/github/imaleaf03/lt/blob/main/00.ipynb\" target=\"_parent\"><img src=\"https://colab.research.google.com/assets/colab-badge.svg\" alt=\"Open In Colab\"/></a>"
      ]
    },
    {
      "cell_type": "markdown",
      "metadata": {
        "pycharm": {
          "name": "#%% md\n"
        },
        "id": "Q_MnUvI35c7M"
      },
      "source": [
        "# Pokemon"
      ]
    },
    {
      "cell_type": "markdown",
      "metadata": {
        "pycharm": {
          "name": "#%% md\n"
        },
        "id": "f-TSGALZ5c7S"
      },
      "source": [
        "### Introduction:\n",
        "\n",
        "This time you will create the data.\n",
        "\n",
        "\n",
        "\n",
        "### Step 1. Import the necessary libraries"
      ]
    },
    {
      "cell_type": "code",
      "execution_count": null,
      "metadata": {
        "pycharm": {
          "name": "#%%\n"
        },
        "id": "Mq_NqWry5c7T"
      },
      "outputs": [],
      "source": [
        "import pandas as pd"
      ]
    },
    {
      "cell_type": "markdown",
      "metadata": {
        "pycharm": {
          "name": "#%% md\n"
        },
        "id": "WDPTL3hI5c7U"
      },
      "source": [
        "### Step 2. Create a data dictionary that looks like the DataFrame below"
      ]
    },
    {
      "cell_type": "code",
      "execution_count": null,
      "metadata": {
        "collapsed": true,
        "pycharm": {
          "name": "#%%\n"
        },
        "id": "8Dgs4C1x5c7U",
        "colab": {
          "base_uri": "https://localhost:8080/"
        },
        "outputId": "5cf4600b-8fc2-4eca-8070-f07786c2a328"
      },
      "outputs": [
        {
          "output_type": "stream",
          "name": "stdout",
          "text": [
            "    evolution  hp        name pokedex   type\n",
            "0     Ivysaur  45   Bulbasaur     yes  grass\n",
            "1  Charmeleon  39  Charmander      no   fire\n",
            "2   Wartortle  44    Squirtle     yes  water\n",
            "3     Metapod  45    caterpie      no    bug\n"
          ]
        }
      ],
      "source": [
        "data = {'evolution': ['Ivysaur', 'Charmeleon', 'Wartortle', 'Metapod'],\n",
        "        'hp': ['45', '39', '44', '45'],\n",
        "        'name': ['Bulbasaur', 'Charmander', 'Squirtle', 'caterpie'],\n",
        "        'pokedex': ['yes', 'no', 'yes', 'no'],\n",
        "        'type': ['grass', 'fire', 'water', 'bug'],\n",
        "}\n",
        "df = pd.DataFrame(data)\n",
        "print(df)"
      ]
    },
    {
      "cell_type": "markdown",
      "metadata": {
        "pycharm": {
          "name": "#%% md\n"
        },
        "id": "f5rMeCim5c7V"
      },
      "source": [
        "### Step 3. Assign it to a variable called pokemon"
      ]
    },
    {
      "cell_type": "code",
      "execution_count": null,
      "metadata": {
        "pycharm": {
          "name": "#%%\n"
        },
        "id": "zxWEbQxl5c7V",
        "outputId": "80e09267-ecc7-4b14-caf5-0dded342699d",
        "colab": {
          "base_uri": "https://localhost:8080/"
        }
      },
      "outputs": [
        {
          "output_type": "stream",
          "name": "stdout",
          "text": [
            "    evolution  hp        name pokedex   type\n",
            "0     Ivysaur  45   Bulbasaur     yes  grass\n",
            "1  Charmeleon  39  Charmander      no   fire\n",
            "2   Wartortle  44    Squirtle     yes  water\n",
            "3     Metapod  45    caterpie      no    bug\n"
          ]
        }
      ],
      "source": [
        "pokemon = df\n",
        "print(pokemon)"
      ]
    },
    {
      "cell_type": "markdown",
      "metadata": {
        "pycharm": {
          "name": "#%% md\n"
        },
        "id": "z_24TDRZ5c7W"
      },
      "source": [
        "### Step 4. Ops...it seems the DataFrame columns are in alphabetical order. Place  the order of the columns as name, type, hp, evolution, pokedex"
      ]
    },
    {
      "cell_type": "code",
      "execution_count": null,
      "metadata": {
        "pycharm": {
          "name": "#%%\n"
        },
        "id": "Dfp_BXmF5c7X",
        "colab": {
          "base_uri": "https://localhost:8080/"
        },
        "outputId": "490e2877-021a-494f-b2ff-eca6826b05e8"
      },
      "outputs": [
        {
          "output_type": "stream",
          "name": "stdout",
          "text": [
            "         name   type  hp   evolution pokedex\n",
            "0   Bulbasaur  grass  45     Ivysaur     yes\n",
            "1  Charmander   fire  39  Charmeleon      no\n",
            "2    Squirtle  water  44   Wartortle     yes\n",
            "3    caterpie    bug  45     Metapod      no\n"
          ]
        }
      ],
      "source": [
        "pokemon = pokemon[['name', 'type', 'hp', 'evolution', 'pokedex']]\n",
        "print(pokemon)"
      ]
    },
    {
      "cell_type": "markdown",
      "metadata": {
        "pycharm": {
          "name": "#%% md\n"
        },
        "id": "UIAplpMf5c7X"
      },
      "source": [
        "### Step 5. Add another column called place, and insert what you have in mind."
      ]
    },
    {
      "cell_type": "code",
      "execution_count": null,
      "metadata": {
        "pycharm": {
          "name": "#%%\n"
        },
        "id": "s4dSVQ9_5c7Y",
        "colab": {
          "base_uri": "https://localhost:8080/"
        },
        "outputId": "9c2336cf-4458-43bf-e6cb-5184f1f3f33f"
      },
      "outputs": [
        {
          "output_type": "stream",
          "name": "stdout",
          "text": [
            "         name   type  hp   evolution pokedex      place\n",
            "0   Bulbasaur  grass  45     Ivysaur     yes    Vietnam\n",
            "1  Charmander   fire  39  Charmeleon      no  Australia\n",
            "2    Squirtle  water  44   Wartortle     yes        USA\n",
            "3    caterpie    bug  45     Metapod      no      Korea\n"
          ]
        }
      ],
      "source": [
        "df['place']=['Vietnam','Australia','USA','Korea']\n",
        "print(df)"
      ]
    },
    {
      "cell_type": "markdown",
      "metadata": {
        "pycharm": {
          "name": "#%% md\n"
        },
        "id": "M-b2VDH65c7Y"
      },
      "source": [
        "### Step 6. Present the type of each column"
      ]
    },
    {
      "cell_type": "code",
      "execution_count": null,
      "metadata": {
        "pycharm": {
          "name": "#%%\n"
        },
        "id": "SCvhq14d5c7Y",
        "colab": {
          "base_uri": "https://localhost:8080/"
        },
        "outputId": "ca0c547d-ff3d-4450-9d84-e6fded262dfd"
      },
      "outputs": [
        {
          "output_type": "stream",
          "name": "stdout",
          "text": [
            "name         object\n",
            "type         object\n",
            "hp           object\n",
            "evolution    object\n",
            "pokedex      object\n",
            "place        object\n",
            "dtype: object\n"
          ]
        }
      ],
      "source": [
        "print(df.dtypes)"
      ]
    },
    {
      "cell_type": "markdown",
      "metadata": {
        "pycharm": {
          "name": "#%% md\n"
        },
        "id": "ME-6TFXJ5c7Y"
      },
      "source": [
        "### BONUS: Create your own question and answer it."
      ]
    },
    {
      "cell_type": "code",
      "execution_count": null,
      "metadata": {
        "collapsed": true,
        "pycharm": {
          "name": "#%%\n"
        },
        "id": "M9VZVEXJ5c7Z",
        "colab": {
          "base_uri": "https://localhost:8080/"
        },
        "outputId": "c1bc314a-7bda-4046-9da8-ddc52480eb39"
      },
      "outputs": [
        {
          "output_type": "stream",
          "name": "stdout",
          "text": [
            "                   0           1          2         3\n",
            "name       Bulbasaur  Charmander   Squirtle  caterpie\n",
            "type           grass        fire      water       bug\n",
            "hp                45          39         44        45\n",
            "evolution    Ivysaur  Charmeleon  Wartortle   Metapod\n",
            "pokedex          yes          no        yes        no\n",
            "place        Vietnam   Australia        USA     Korea\n"
          ]
        }
      ],
      "source": [
        "#Chuyển vị\n",
        "print(df.T)"
      ]
    }
  ],
  "metadata": {
    "kernelspec": {
      "display_name": "Python 2",
      "language": "python",
      "name": "python2"
    },
    "language_info": {
      "codemirror_mode": {
        "name": "ipython",
        "version": 2
      },
      "file_extension": ".py",
      "mimetype": "text/x-python",
      "name": "python",
      "nbconvert_exporter": "python",
      "pygments_lexer": "ipython2",
      "version": "2.7.11"
    },
    "colab": {
      "provenance": [],
      "include_colab_link": true
    }
  },
  "nbformat": 4,
  "nbformat_minor": 0
}